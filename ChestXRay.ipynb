{
 "cells": [
  {
   "cell_type": "code",
   "execution_count": 1,
   "metadata": {},
   "outputs": [],
   "source": [
    "import os\n",
    "import io\n",
    "import platform\n",
    "import sklearn\n",
    "import numpy as np\n",
    "from sklearn.model_selection import train_test_split\n",
    "import sklearn.datasets as datasets\n",
    "import random\n",
    "import pandas as pd\n",
    "\n",
    "import torch\n",
    "import torch.nn as nn\n",
    "import torch.optim as optim\n",
    "import torch.utils.data as data\n",
    "from torch.utils.data.dataset import Dataset\n",
    "import torch.nn.functional as F\n",
    "from torch.autograd import Variable\n",
    "\n",
    "import torchvision\n",
    "import torchvision.datasets as datasets\n",
    "import torchvision.transforms as transforms\n",
    "\n",
    "from PIL import Image\n",
    "from PIL import ImageOps"
   ]
  },
  {
   "cell_type": "code",
   "execution_count": 2,
   "metadata": {},
   "outputs": [],
   "source": [
    "desired_width = 224\n",
    "transform=transforms.ToTensor()\n",
    "def process_img(image):\n",
    "    desired_length = int(desired_width * (image.size[0]/image.size[1]))\n",
    "    new=image.resize((desired_width, desired_width))\n",
    "    back = Image.new(\"L\", (224, 224))  \n",
    "    back.paste(new)\n",
    "    img=transform(back)\n",
    "    new.close()\n",
    "    back.close()\n",
    "    return img"
   ]
  },
  {
   "cell_type": "code",
   "execution_count": 3,
   "metadata": {},
   "outputs": [],
   "source": [
    "FILE_PATH=\"./chest_xray/\"\n",
    "def load_data(dataset):\n",
    "    path=FILE_PATH+dataset+\"/\"\n",
    "    data=[]\n",
    "    for file in os.listdir(path+\"PNEUMONIA/\"):\n",
    "        if not(file.startswith('.')):\n",
    "            img=Image.open(path+\"PNEUMONIA/\"+file)\n",
    "            temp=[]\n",
    "            temp.append(process_img(img.convert(\"L\")))\n",
    "            temp.append(torch.FloatTensor([1]))\n",
    "            data.append(temp)\n",
    "            img.close()\n",
    "    for file in os.listdir(path+\"NORMAL/\"):\n",
    "        if not(file.startswith('.')):\n",
    "            img=Image.open(path+\"NORMAL/\"+file)\n",
    "            temp=[]\n",
    "            temp.append(process_img(img.convert(\"L\")))\n",
    "            temp.append(torch.FloatTensor([0]))\n",
    "            data.append(temp)\n",
    "            img.close()\n",
    "    return data"
   ]
  },
  {
   "cell_type": "code",
   "execution_count": 4,
   "metadata": {},
   "outputs": [],
   "source": [
    "train_set=load_data(\"train\")\n",
    "test_set=load_data(\"test\")\n",
    "val_set=load_data(\"val\")"
   ]
  },
  {
   "cell_type": "code",
   "execution_count": 5,
   "metadata": {},
   "outputs": [
    {
     "data": {
      "text/plain": [
       "tensor([[[ 0.8078,  0.8039,  0.8078,  ...,  0.7686,  0.8039,  0.8353],\n",
       "         [ 0.8039,  0.8000,  0.8039,  ...,  0.7608,  0.8314,  0.8157],\n",
       "         [ 0.8000,  0.8000,  0.7961,  ...,  0.7686,  0.8157,  0.8314],\n",
       "         ...,\n",
       "         [ 0.0706,  0.0549,  0.0471,  ...,  0.1843,  0.1922,  0.2000],\n",
       "         [ 0.0549,  0.0549,  0.0471,  ...,  0.1804,  0.1882,  0.1882],\n",
       "         [ 0.0549,  0.0549,  0.0471,  ...,  0.1765,  0.1804,  0.1804]]])"
      ]
     },
     "execution_count": 5,
     "metadata": {},
     "output_type": "execute_result"
    }
   ],
   "source": [
    "train_set[0][0]"
   ]
  },
  {
   "cell_type": "code",
   "execution_count": null,
   "metadata": {},
   "outputs": [],
   "source": []
  },
  {
   "cell_type": "code",
   "execution_count": 6,
   "metadata": {},
   "outputs": [],
   "source": [
    "class CNN(nn.Module):\n",
    "    def __init__(self):\n",
    "        super(CNN,self).__init__()\n",
    "        self.cl1=nn.Conv2d(1,12,kernel_size=3)\n",
    "        self.mp1=nn.MaxPool2d(2)\n",
    "        self.cl2=nn.Conv2d(12,3,kernel_size=3)\n",
    "        self.mp2=nn.MaxPool2d(2)\n",
    "        self.fcl=nn.Linear(8748,1)\n",
    "        \n",
    "    def forward(self,x):\n",
    "        # x dim: b x 800 x 600 x 3 -> b x 1 x 100 x 100\n",
    "        out=F.relu(self.cl1(x)) # b x 18 x whatever x whatever\n",
    "        out=self.mp1(out)\n",
    "        out=F.relu(self.cl2(out))\n",
    "        out=self.mp2(out)\n",
    "        \n",
    "        # at this point, we should have a tensor that's b x inchannels x 1 x 1\n",
    "        out=out.view(out.size(0),-1)\n",
    "#         print(out.shape)\n",
    "        out=F.sigmoid(self.fcl(out))\n",
    "        return out"
   ]
  },
  {
   "cell_type": "code",
   "execution_count": 84,
   "metadata": {},
   "outputs": [],
   "source": [
    "model=CNN()\n",
    "model.eval()\n",
    "optimizer=optim.Adam(model.parameters(),lr=0.001,weight_decay=0.001)\n",
    "criterion=nn.BCELoss()"
   ]
  },
  {
   "cell_type": "code",
   "execution_count": 85,
   "metadata": {},
   "outputs": [],
   "source": [
    "def train(epoch,model,train_loader,optimizer):\n",
    "    model.train()\n",
    "    \n",
    "    total_loss=0\n",
    "    correct=0\n",
    "    \n",
    "    for i, (image,label) in enumerate(train_loader):\n",
    "        \n",
    "        #print(i)\n",
    "        optimizer.zero_grad()\n",
    "        \n",
    "#         print(label.shape)\n",
    "       \n",
    "        \n",
    "        prediction=model(image)\n",
    "        \n",
    "        loss=criterion(prediction,label)\n",
    "        \n",
    "        loss.backward()\n",
    "        \n",
    "        optimizer.step()\n",
    "        \n",
    "        total_loss+=loss\n",
    "        \n",
    "        pred_classes=prediction.data.max(1,keepdim=True)[1]\n",
    "#         print(type(pred_classes))\n",
    "        \n",
    "        correct+=pred_classes.eq(label.long().data.view_as(pred_classes)).sum().double()\n",
    "        \n",
    "    mean_loss=total_loss/len(train_loader.dataset)\n",
    "    acc=correct/len(train_loader.dataset)\n",
    "    \n",
    "    print('Train Epoch: {}   Avg_Loss: {:.5f}   Acc: {}/{} ({:.3f}%)'.format(\n",
    "        epoch, mean_loss, correct, len(train_loader.dataset),\n",
    "        100. * acc))\n",
    "\n",
    "    return mean_loss, acc"
   ]
  },
  {
   "cell_type": "code",
   "execution_count": 86,
   "metadata": {},
   "outputs": [],
   "source": [
    "def eval(model,test_loader):\n",
    "    model.eval()\n",
    "    \n",
    "    total_loss=0\n",
    "    correct=0\n",
    "    \n",
    "    for i, (image,label) in enumerate(test_loader):\n",
    "        \n",
    "        optimizer.zero_grad()\n",
    "        \n",
    "        prediction=model(image)\n",
    "        \n",
    "        loss=criterion(prediction,torch.FloatTensor(label))\n",
    "        \n",
    "        loss.backward()\n",
    "        \n",
    "        optimizer.step()\n",
    "        \n",
    "        total_loss+=loss\n",
    "        \n",
    "        pred_classes=prediction.data.max(1,keepdim=True)[1]\n",
    "        \n",
    "#         print(type(pred_classes))\n",
    "        \n",
    "        correct+=pred_classes.eq(label.long().data.view_as(pred_classes)).sum().double()\n",
    "        \n",
    "    mean_loss=total_loss/len(test_loader.dataset)\n",
    "    \n",
    "    acc=correct/len(test_loader.dataset)\n",
    "    \n",
    "    print('Eval:   Avg_Loss: {:.5f}   Acc: {}/{} ({:.3f}%)'.format(\n",
    "         mean_loss, correct, len(test_loader.dataset),\n",
    "        100. * acc))\n",
    "\n",
    "    return mean_loss, acc"
   ]
  },
  {
   "cell_type": "code",
   "execution_count": 87,
   "metadata": {},
   "outputs": [],
   "source": [
    "def save_model(epoch, model, path='./'):\n",
    "    \n",
    "    # file name and path \n",
    "    filename = path + 'chestXRay_{}.pt'.format(epoch)\n",
    "    \n",
    "    # load the model parameters \n",
    "    torch.save(model.state_dict(), filename)\n",
    "    \n",
    "    \n",
    "    return model\n",
    "\n",
    "def load_model(epoch, model, path='./'):\n",
    "    \n",
    "    # file name and path \n",
    "    filename = path + 'chestXRay_{}.pt'.format(epoch)\n",
    "    \n",
    "    # load the model parameters \n",
    "    model.load_state_dict(torch.load(filename))\n",
    "    \n",
    "    \n",
    "    return model"
   ]
  },
  {
   "cell_type": "code",
   "execution_count": 88,
   "metadata": {},
   "outputs": [],
   "source": [
    "BATCH_SIZE=8\n",
    "train_loader=data.DataLoader(train_set,batch_size=BATCH_SIZE,shuffle=True)\n",
    "valid_loader=data.DataLoader(val_set,batch_size=BATCH_SIZE,shuffle=True)\n",
    "test_loader=data.DataLoader(test_set,batch_size=BATCH_SIZE,shuffle=True)"
   ]
  },
  {
   "cell_type": "code",
   "execution_count": 89,
   "metadata": {},
   "outputs": [
    {
     "data": {
      "text/plain": [
       "<torch.utils.data.dataloader.DataLoader at 0x1a62742470>"
      ]
     },
     "execution_count": 89,
     "metadata": {},
     "output_type": "execute_result"
    }
   ],
   "source": [
    "train_loader"
   ]
  },
  {
   "cell_type": "code",
   "execution_count": 90,
   "metadata": {},
   "outputs": [
    {
     "name": "stdout",
     "output_type": "stream",
     "text": [
      "Train Epoch: 1   Avg_Loss: 0.02504   Acc: 1331.0/5206 (25.567%)\n",
      "Eval:   Avg_Loss: 0.03758   Acc: 234.0/624 (37.500%)\n",
      "Train Epoch: 2   Avg_Loss: 0.01406   Acc: 1331.0/5206 (25.567%)\n",
      "Eval:   Avg_Loss: 0.04600   Acc: 234.0/624 (37.500%)\n",
      "Train Epoch: 3   Avg_Loss: 0.01197   Acc: 1331.0/5206 (25.567%)\n",
      "Eval:   Avg_Loss: 0.03458   Acc: 234.0/624 (37.500%)\n",
      "Train Epoch: 4   Avg_Loss: 0.01089   Acc: 1331.0/5206 (25.567%)\n",
      "Eval:   Avg_Loss: 0.03452   Acc: 234.0/624 (37.500%)\n",
      "Train Epoch: 5   Avg_Loss: 0.01059   Acc: 1331.0/5206 (25.567%)\n",
      "Eval:   Avg_Loss: 0.03798   Acc: 234.0/624 (37.500%)\n",
      "Train Epoch: 6   Avg_Loss: 0.00978   Acc: 1331.0/5206 (25.567%)\n",
      "Eval:   Avg_Loss: 0.03662   Acc: 234.0/624 (37.500%)\n",
      "Train Epoch: 7   Avg_Loss: 0.00876   Acc: 1331.0/5206 (25.567%)\n",
      "Eval:   Avg_Loss: 0.03529   Acc: 234.0/624 (37.500%)\n",
      "Train Epoch: 8   Avg_Loss: 0.00756   Acc: 1331.0/5206 (25.567%)\n",
      "Eval:   Avg_Loss: 0.03181   Acc: 234.0/624 (37.500%)\n",
      "Train Epoch: 9   Avg_Loss: 0.00745   Acc: 1331.0/5206 (25.567%)\n",
      "Eval:   Avg_Loss: 0.03527   Acc: 234.0/624 (37.500%)\n",
      "Train Epoch: 10   Avg_Loss: 0.00759   Acc: 1331.0/5206 (25.567%)\n",
      "Eval:   Avg_Loss: 0.03350   Acc: 234.0/624 (37.500%)\n",
      "\n",
      "\n",
      "\n",
      "Optimization ended.\n",
      "\n"
     ]
    }
   ],
   "source": [
    "num_epoch=10\n",
    "checkpoint_freq=5\n",
    "path=\"./\"\n",
    "\n",
    "train_losses = []\n",
    "test_losses = []\n",
    "\n",
    "train_accuracies = []\n",
    "test_accuracies = []\n",
    "\n",
    "# traininng \n",
    "for epoch in range(1, num_epoch + 1):\n",
    "    \n",
    "    # train() function (see above)\n",
    "    train_loss, train_acc = train(epoch, model, train_loader, optimizer)\n",
    "    \n",
    "    # eval() functionn (see above)\n",
    "    test_loss, test_acc = eval(model, test_loader)    \n",
    "    \n",
    "    # append lists for plotting and printing \n",
    "    train_losses.append(train_loss)    \n",
    "    test_losses.append(test_loss)\n",
    "    \n",
    "    train_accuracies.append(train_acc)    \n",
    "    test_accuracies.append(test_acc)\n",
    "    \n",
    "    # Checkpoint\n",
    "    if epoch % checkpoint_freq ==0:\n",
    "        save_model(epoch, model, path)\n",
    "\n",
    "# Last checkpoint\n",
    "save_model(num_epoch, model, path)\n",
    "    \n",
    "print(\"\\n\\n\\nOptimization ended.\\n\") "
   ]
  },
  {
   "cell_type": "code",
   "execution_count": 63,
   "metadata": {},
   "outputs": [
    {
     "data": {
      "image/png": "[encoded data removed]",
      "text/plain": [
       "<Figure size 432x288 with 1 Axes>"
      ]
     },
     "metadata": {},
     "output_type": "display_data"
    }
   ],
   "source": [
    "import matplotlib.pyplot as plt\n",
    "plt.plot(train_losses,color='darkcyan')\n",
    "plt.plot(test_losses,color='orange')\n",
    "plt.show()"
   ]
  },
  {
   "cell_type": "code",
   "execution_count": 71,
   "metadata": {},
   "outputs": [],
   "source": [
    "cnn=CNN()\n",
    "cnn=load_model(10,cnn)"
   ]
  },
  {
   "cell_type": "code",
   "execution_count": 72,
   "metadata": {},
   "outputs": [
    {
     "data": {
      "text/plain": [
       "CNN(\n",
       "  (cl1): Conv2d(1, 12, kernel_size=(3, 3), stride=(1, 1))\n",
       "  (mp1): MaxPool2d(kernel_size=2, stride=2, padding=0, dilation=1, ceil_mode=False)\n",
       "  (cl2): Conv2d(12, 3, kernel_size=(3, 3), stride=(1, 1))\n",
       "  (mp2): MaxPool2d(kernel_size=2, stride=2, padding=0, dilation=1, ceil_mode=False)\n",
       "  (fcl): Linear(in_features=8748, out_features=1, bias=True)\n",
       ")"
      ]
     },
     "execution_count": 72,
     "metadata": {},
     "output_type": "execute_result"
    }
   ],
   "source": [
    "cnn"
   ]
  },
  {
   "cell_type": "code",
   "execution_count": 77,
   "metadata": {},
   "outputs": [
    {
     "name": "stdout",
     "output_type": "stream",
     "text": [
      "torch.Size([1, 1])\n",
      "torch.Size([1, 1])\n",
      "torch.Size([1, 1])\n",
      "torch.Size([1, 1])\n",
      "torch.Size([1, 1])\n",
      "torch.Size([1, 1])\n",
      "torch.Size([1, 1])\n",
      "torch.Size([1, 1])\n",
      "torch.Size([1, 1])\n",
      "torch.Size([1, 1])\n",
      "torch.Size([1, 1])\n",
      "torch.Size([1, 1])\n",
      "torch.Size([1, 1])\n",
      "torch.Size([1, 1])\n",
      "torch.Size([1, 1])\n",
      "torch.Size([1, 1])\n",
      "tensor(1.00000e-02 *\n",
      "       7.7142)\n"
     ]
    }
   ],
   "source": [
    "import matplotlib.pyplot as plt\n",
    "losses=[]\n",
    "total_loss=0\n",
    "criterion=nn.MSELoss()\n",
    "for i,(image,label) in enumerate (val_set):\n",
    "#     print(image.shape)\n",
    "    prediction=cnn(image.unsqueeze(0))\n",
    "    print(prediction.shape)\n",
    "    loss=criterion(prediction,label.unsqueeze(0))\n",
    "    losses.append(loss)\n",
    "    total_loss+=loss\n",
    "avg_loss=total_loss/len(val_set)\n",
    "print(avg_loss)"
   ]
  },
  {
   "cell_type": "code",
   "execution_count": 78,
   "metadata": {},
   "outputs": [
    {
     "data": {
      "image/png": "[encoded data removed]",
      "text/plain": [
       "<Figure size 432x288 with 1 Axes>"
      ]
     },
     "metadata": {},
     "output_type": "display_data"
    }
   ],
   "source": [
    "plt.plot(losses,color='darkcyan')\n",
    "plt.show()"
   ]
  },
  {
   "cell_type": "code",
   "execution_count": null,
   "metadata": {},
   "outputs": [],
   "source": []
  }
 ],
 "metadata": {
  "kernelspec": {
   "display_name": "Python 3",
   "language": "python",
   "name": "python3"
  },
  "language_info": {
   "codemirror_mode": {
    "name": "ipython",
    "version": 3
   },
   "file_extension": ".py",
   "mimetype": "text/x-python",
   "name": "python",
   "nbconvert_exporter": "python",
   "pygments_lexer": "ipython3",
   "version": "3.6.5"
  }
 },
 "nbformat": 4,
 "nbformat_minor": 2
}
